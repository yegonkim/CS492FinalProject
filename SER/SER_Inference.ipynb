{
  "cells": [
    {
      "cell_type": "code",
      "execution_count": null,
      "metadata": {
        "id": "QsGeORcyzQ76"
      },
      "outputs": [],
      "source": [
        "!gdown https://drive.google.com/uc?id=1-4owby1oHeRtwfQC9mBwQWVZx5L2HHek\n",
        "!git clone https://github.com/yegonkim/CS492FinalProject.git  \n",
        "!mv wav2vec2-best.pth /content/CS492FinalProject/SER\n",
        "!pip install transformers"
      ]
    },
    {
      "cell_type": "code",
      "execution_count": 50,
      "metadata": {
        "colab": {
          "base_uri": "https://localhost:8080/"
        },
        "id": "5v7iyfi61UoV",
        "outputId": "d206169b-53dc-4984-9e7e-b3d2fd82b556"
      },
      "outputs": [
        {
          "data": {
            "text/plain": [
              "{'emotion': 'fear'}"
            ]
          },
          "execution_count": 50,
          "metadata": {},
          "output_type": "execute_result"
        }
      ],
      "source": [
        "import sys\n",
        "\n",
        "sys.path.insert(1, '/content/CS492FinalProject/SER/')\n",
        "\n",
        "from CS492FinalProject.SER import inference\n",
        "\n",
        "inference.infer(\"joy_kyuholee_1.mp3\")\n"
      ]
    }
  ],
  "metadata": {
    "accelerator": "GPU",
    "colab": {
      "collapsed_sections": [],
      "name": "SER_Inference.ipynb",
      "provenance": []
    },
    "kernelspec": {
      "display_name": "Python 3",
      "name": "python3"
    },
    "language_info": {
      "name": "python"
    }
  },
  "nbformat": 4,
  "nbformat_minor": 0
}
