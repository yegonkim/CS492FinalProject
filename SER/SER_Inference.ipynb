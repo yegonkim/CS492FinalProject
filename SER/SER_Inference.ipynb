{
  "nbformat": 4,
  "nbformat_minor": 0,
  "metadata": {
    "colab": {
      "name": "SER_Inference.ipynb",
      "provenance": [],
      "collapsed_sections": []
    },
    "kernelspec": {
      "name": "python3",
      "display_name": "Python 3"
    },
    "language_info": {
      "name": "python"
    },
    "accelerator": "GPU"
  },
  "cells": [
    {
      "cell_type": "code",
      "execution_count": null,
      "metadata": {
        "id": "QsGeORcyzQ76"
      },
      "outputs": [],
      "source": [
        "# !gdown https://drive.google.com/uc?id=1-4owby1oHeRtwfQC9mBwQWVZx5L2HHek\n",
        "!git clone https://github.com/yegonkim/CS492FinalProject.git  \n",
        "!cp /content/drive/MyDrive/wav2vec2-best.pth /content/CS492FinalProject/SER\n",
        "!pip install transformers"
      ]
    },
    {
      "cell_type": "code",
      "source": [
        "import sys\n",
        "\n",
        "sys.path.insert(1, '/content/CS492FinalProject/SER/')\n",
        "\n",
        "from CS492FinalProject.SER import inference\n",
        "\n",
        "inference.infer(\"joy_kyuholee_1.mp3\")\n"
      ],
      "metadata": {
        "colab": {
          "base_uri": "https://localhost:8080/"
        },
        "id": "5v7iyfi61UoV",
        "outputId": "d206169b-53dc-4984-9e7e-b3d2fd82b556"
      },
      "execution_count": 50,
      "outputs": [
        {
          "output_type": "execute_result",
          "data": {
            "text/plain": [
              "{'emotion': 'fear'}"
            ]
          },
          "metadata": {},
          "execution_count": 50
        }
      ]
    }
  ]
}